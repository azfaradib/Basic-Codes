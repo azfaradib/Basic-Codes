{
  "nbformat": 4,
  "nbformat_minor": 0,
  "metadata": {
    "colab": {
      "name": "practice.ipynb",
      "provenance": [],
      "collapsed_sections": [],
      "authorship_tag": "ABX9TyPU17T07YUmz8I/R82YXelB",
      "include_colab_link": true
    },
    "kernelspec": {
      "name": "python3",
      "display_name": "Python 3"
    },
    "language_info": {
      "name": "python"
    }
  },
  "cells": [
    {
      "cell_type": "markdown",
      "metadata": {
        "id": "view-in-github",
        "colab_type": "text"
      },
      "source": [
        "<a href=\"https://colab.research.google.com/github/azfaradib/Basic-Codes/blob/master/practice.ipynb\" target=\"_parent\"><img src=\"https://colab.research.google.com/assets/colab-badge.svg\" alt=\"Open In Colab\"/></a>"
      ]
    },
    {
      "cell_type": "code",
      "execution_count": null,
      "metadata": {
        "id": "i5GaRYE-J8rN"
      },
      "outputs": [],
      "source": [
        "from numpy import loadtxt\n",
        "from keras.models import Sequential\n",
        "from keras.layers import Dense\n",
        "import statistics\n",
        "from tensorflow import keras\n",
        "from tensorflow.keras import layers\n",
        "from __future__ import absolute_import, division, print_function, unicode_literals\n",
        "from sklearn.metrics import roc_auc_score\n",
        "import tensorflow as tf\n",
        "import pandas as pd\n",
        "import numpy as np\n",
        "from sklearn.metrics import classification_report, confusion_matrix\n",
        "import sys\n",
        "import math\n",
        "#import xlsxwriter"
      ]
    },
    {
      "cell_type": "code",
      "source": [
        "model = Sequential()\n",
        "model.add(Dense(12, input_dim=1000, activation='relu'))\n",
        "model.add(Dense(8, activation='relu'))\n",
        "model.add(Dense(1, activation='relu'))\n",
        "model.compile(loss='binary_crossentropy', optimizer='rmsprop', metrics=['accuracy'])"
      ],
      "metadata": {
        "id": "MmtomksxD3Y3"
      },
      "execution_count": null,
      "outputs": []
    },
    {
      "cell_type": "code",
      "source": [
        "train_features= pd.read_csv('/content/training_features.csv')\n",
        "test_features=pd.read_csv('/content/test_features.csv')\n",
        "train_labels=pd.read_csv('/content/training_labels.csv')\n",
        "test_labels=pd.read_csv('/content/test_labels.csv')\n",
        "train =(train_features.iloc[0:,-0:1000])\n",
        "test=(test_features.iloc[0:,-0:1000])\n",
        "train_y = (train_labels.iloc[0:,0:])\n",
        "test_y = (test_labels.iloc[0:,0:])"
      ],
      "metadata": {
        "id": "IyLw0oVAEBDN"
      },
      "execution_count": null,
      "outputs": []
    },
    {
      "cell_type": "code",
      "source": [
        "model.fit(train, train_y, epochs=500, batch_size=1000)\n",
        "accuracy = evaluate(test,test_y)\n",
        "predictions = model.predict(test)"
      ],
      "metadata": {
        "id": "Cuj8XqN2O9yU"
      },
      "execution_count": null,
      "outputs": []
    },
    {
      "cell_type": "code",
      "source": [
        "import csv \n",
        "fields = ['Age'] \n",
        "rows = predictions\n",
        "filename = \"Output.csv\"\n",
        "with open(filename, 'w') as csvfile: \n",
        "csvwriter = csv.writer(csvfile) \n",
        "csvwriter.writerow(fields) \n",
        "csvwriter.writerows(rows)\n",
        "print(train)"
      ],
      "metadata": {
        "id": "vItV0OYiWMsh"
      },
      "execution_count": null,
      "outputs": []
    }
  ]
}